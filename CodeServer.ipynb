{
  "nbformat": 4,
  "nbformat_minor": 0,
  "metadata": {
    "colab": {
      "name": "CodeServer.ipynb",
      "provenance": [],
      "collapsed_sections": [],
      "include_colab_link": true
    },
    "kernelspec": {
      "name": "python3",
      "display_name": "Python 3"
    },
    "accelerator": "GPU"
  },
  "cells": [
    {
      "cell_type": "markdown",
      "metadata": {
        "id": "view-in-github",
        "colab_type": "text"
      },
      "source": [
        "<a href=\"https://colab.research.google.com/github/mamakkaucoy/colab/blob/main/CodeServer.ipynb\" target=\"_parent\"><img src=\"https://colab.research.google.com/assets/colab-badge.svg\" alt=\"Open In Colab\"/></a>"
      ]
    },
    {
      "cell_type": "markdown",
      "metadata": {
        "id": "hWw875DoFeRr"
      },
      "source": [
        "# **MASTER CODE**\n",
        "\n",
        "`MARKICOB...Mari Kita Coba`\n"
      ]
    },
    {
      "cell_type": "code",
      "metadata": {
        "cellView": "form",
        "id": "WRc1ozbnp9BJ"
      },
      "source": [
        "#@title CEK GPU\n",
        "\n",
        "from tensorflow.python.client import device_lib\n",
        "device_lib.list_local_devices()"
      ],
      "execution_count": null,
      "outputs": []
    },
    {
      "cell_type": "code",
      "metadata": {
        "cellView": "form",
        "id": "QwaF0dxzqkTn"
      },
      "source": [
        "#@title MOD GPU\n",
        "\n",
        "from numba import jit, cuda\n",
        "import numpy as np\n",
        "# to measure exec time\n",
        "from timeit import default_timer as timer\n",
        "\n",
        "# normal function to run on cpu\n",
        "def func(a):\t\t\t\t\t\t\t\t\n",
        "\tfor i in range(10000000):\n",
        "\t\ta[i]+= 1\t\n",
        "\n",
        "\t\t\t\t\t\t\n",
        "def func2(a):\n",
        "\tfor i in range(10000000):\n",
        "\t\ta[i]+= 1\n",
        "if __name__==\"__main__\":\n",
        "\tn = 10000000\t\t\t\t\t\t\t\n",
        "\ta = np.ones(n, dtype = np.float64)\n",
        "\tb = np.ones(n, dtype = np.float32)\n",
        "\t\n",
        "\tstart = timer()\n",
        "\tfunc(a)\n",
        "\tprint(\"without GPU:\", timer()-start)\t\n",
        "\t\n",
        "\tstart = timer()\n",
        "\tfunc2(a)\n",
        "\tprint(\"with GPU:\", timer()-start)"
      ],
      "execution_count": null,
      "outputs": []
    },
    {
      "cell_type": "code",
      "metadata": {
        "cellView": "form",
        "id": "__ifCcvLrSuN"
      },
      "source": [
        "#@title IMPORT CUDA\n",
        "\n",
        "import os\n",
        "' && '.join([f'export {name}=\"{value}\"' for name, value in os.environ.items()])"
      ],
      "execution_count": null,
      "outputs": []
    },
    {
      "cell_type": "code",
      "metadata": {
        "id": "tYlJzRvT5b6J",
        "cellView": "form"
      },
      "source": [
        "#@title MAXIMALKAN TENSOR\n",
        "\n",
        "import tensorflow as tf\n",
        "\n",
        "from tensorflow import keras\n",
        "from tensorflow.keras import layers\n",
        "from tensorflow.keras import mixed_precision\n",
        "\n",
        "mixed_precision.set_global_policy('mixed_float16')"
      ],
      "execution_count": null,
      "outputs": []
    },
    {
      "cell_type": "code",
      "metadata": {
        "id": "1-gADX-DD6_I",
        "cellView": "form"
      },
      "source": [
        "# @title CL HUNTER\n",
        "\n",
        "# Imports\n",
        "import os\n",
        "import requests\n",
        "import re\n",
        "import shlex\n",
        "import time\n",
        "import signal\n",
        "\n",
        "from subprocess import Popen, PIPE, call\n",
        "\n",
        "# @markdown This code cell runs [code-server](https://github.com/cdr/code-server)\n",
        "\n",
        "# @markdown Password (Can be None)\n",
        "Password = \"\"  # @param {type: 'string'}\n",
        "\n",
        "# @markdown Sleep\n",
        "Sleep = False  # @param {type: 'boolean'}\n",
        "\n",
        "# @markdown Yuk Bisa Yuk\n",
        "\n",
        "class ColabCode:\n",
        "    def __init__(\n",
        "            self,\n",
        "            port=10000,\n",
        "            password='',\n",
        "            verbose=False,\n",
        "            sleep=False):\n",
        "\n",
        "        self.install_server(verbose)\n",
        "        self.start_code(port=port, password=password, verbose=verbose)\n",
        "\n",
        "        if sleep:\n",
        "            time.sleep(43200)\n",
        "\n",
        "    @staticmethod\n",
        "    def __get_agro():\n",
        "        hostname = None\n",
        "        output = requests.get(\"http://localhost:45678/metrics\").text\n",
        "        result = re.search('cloudflared_tunnel_user_hostnames_counts{userHostname=\"https://(.+?)\"}', output)\n",
        "        if result is None:\n",
        "            raise Exception(\"Cannot get any result from cloudflared metrics\")\n",
        "        hostname = result.group(1)\n",
        "        if hostname is None:\n",
        "            raise Exception(\"Cannot get the hostname from cloudflared, it looks like the connection has failed.\")\n",
        "        return hostname\n",
        "\n",
        "    def install_server(self, verbose=False):\n",
        "        os.system(\"kill -9 $(ps aux | grep 'cloudflared' | awk '{print $2}')\")\n",
        "\n",
        "        if not os.path.isfile(\"cloudflared\"):\n",
        "            ! wget -q -nc https://bin.equinox.io/c/VdrWdbjqyF/cloudflared-stable-linux-amd64.tgz &> /dev/null\n",
        "            ! tar zxf cloudflared-stable-linux-amd64.tgz &> /dev/null\n",
        "        else:\n",
        "            if verbose:\n",
        "                print(\"DEBUG: Skipping installation\")\n",
        "        \n",
        "        if not os.path.isdir(\"/root/.local/share/code-server/\"):\n",
        "            settings_path = '/root/.local/share/code-server/User'\n",
        "            ! curl -fsSL https://code-server.dev/install.sh | sh &> /dev/null\n",
        "            if not os.path.exists(settings_path):\n",
        "                os.makedirs(settings_path)\n",
        "            with open(f'{settings_path}/settings.json', 'w') as settings:\n",
        "                settings.write(\"\"\"{\n",
        "    \"extensions.autoUpdate\": false,\n",
        "    \"extensions.autoCheckUpdates\": false\n",
        "}\"\"\")\n",
        "\n",
        "    def start_code(self, port=10000, password=None, verbose=False):\n",
        "        if password:\n",
        "            code_cmd = f'PASSWORD={password} code-server --port {port} --disable-telemetry'\n",
        "        else:\n",
        "            code_cmd = f'code-server --port {port} --auth none --disable-telemetry'\n",
        "\n",
        "        agro_cmd = f'./cloudflared tunnel --url http://127.0.0.1:10000 --metrics localhost:45678'\n",
        "\n",
        "        code_proc = Popen([code_cmd], shell=True, stdout=PIPE)\n",
        "        agro_proc = Popen(shlex.split(agro_cmd), stdout=PIPE)\n",
        "\n",
        "        if verbose:\n",
        "            print(f\"DEBUG: Code Server process: {code_proc.pid}\")\n",
        "            print(f\"DEBUG: Cloudflared process: {agro_proc.pid}\")\n",
        "\n",
        "        time.sleep(3)\n",
        "        try:\n",
        "            info = self.__get_agro()\n",
        "            print('VSCode Server is ready, Visit https://{}/{}'.format(\n",
        "                info, \n",
        "                f'?folder={path}' if path else ''))\n",
        "        except NameError:\n",
        "            info = self.__get_agro()\n",
        "            print(f'VSCode Server is ready, Visit https://{info}')\n",
        "        except Exception:\n",
        "            os.kill(code_proc.pid, signal.SIGKILL)\n",
        "            os.kill(agro_proc.pid, signal.SIGKILL)\n",
        "            print(f\"FAILED: Killing Server... Retry again ...\")\n",
        "            sleep = False\n",
        "\n",
        "\n",
        "if __name__ == \"__main__\":\n",
        "    ColabCode(password=Password, sleep=Sleep)"
      ],
      "execution_count": null,
      "outputs": []
    },
    {
      "cell_type": "code",
      "metadata": {
        "cellView": "form",
        "id": "BBAlOaM0Igbi"
      },
      "source": [
        "# @title VS CL Extension Install\n",
        "# @markdown Visit [Open VSX](https://open-vsx.org) and copy the download link of extension and paste here\n",
        "# @markdown any downloadable url of `vsix` file supported\n",
        "\n",
        "downloadUrl = \"https://open-vsx.org/api/ms-python/python/2020.10.332292344/file/ms-python.python-2020.10.332292344.vsix\" # @param {type: 'string'}\n",
        "\n",
        "if downloadUrl:\n",
        "    ! wget $downloadUrl -O /tmp/extension.vsix &> /dev/null\n",
        "    ! code-server --install-extension /tmp/extension.vsix\n",
        "    ! rm /tmp/extension.vsix"
      ],
      "execution_count": null,
      "outputs": []
    },
    {
      "cell_type": "code",
      "metadata": {
        "id": "3QdFk1ViRI2K"
      },
      "source": [
        "while True:pass "
      ],
      "execution_count": null,
      "outputs": []
    },
    {
      "cell_type": "markdown",
      "metadata": {
        "id": "bm02ktGzm4xP"
      },
      "source": [
        "# **END NOTE**\n",
        "\n",
        "`DON'T PLAY PLAY BOSQUE`\n"
      ]
    }
  ]
}
